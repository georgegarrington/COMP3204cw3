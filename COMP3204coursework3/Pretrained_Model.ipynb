{
 "cells": [
  {
   "cell_type": "code",
   "execution_count": 84,
   "metadata": {},
   "outputs": [],
   "source": [
    "from matplotlib import pyplot\n",
    "from matplotlib.image import imread\n",
    "from os import listdir\n",
    "from numpy import asarray\n",
    "from numpy import save\n",
    "from keras.preprocessing.image import load_img\n",
    "from keras.preprocessing.image import img_to_array\n",
    "from numpy import load\n",
    "from os import makedirs\n",
    "from os import listdir\n",
    "from shutil import copyfile\n",
    "from random import seed\n",
    "from random import random\n",
    "from keras.utils import to_categorical\n",
    "from keras.models import Sequential\n",
    "from keras.layers import Conv2D\n",
    "from keras.layers import MaxPooling2D\n",
    "from keras.layers import Dense\n",
    "from keras.layers import Flatten\n",
    "from keras.optimizers import SGD\n",
    "from keras.optimizers import Adam\n",
    "from keras.preprocessing.image import ImageDataGenerator\n",
    "from keras import layers, models, optimizers\n",
    "from keras.applications import VGG16\n",
    "from keras.applications import VGG19\n",
    "from keras.applications import ResNet50\n",
    "#from keras.applications import ResNet101"
   ]
  },
  {
   "cell_type": "code",
   "execution_count": 85,
   "metadata": {},
   "outputs": [],
   "source": [
    "# define cnn model\n",
    "def define_model():\n",
    "    conv_base = VGG16(weights='imagenet', include_top=False, input_shape=(224, 224, 3))\n",
    "    model = models.Sequential()\n",
    "    model.add(conv_base)\n",
    "    model.add(layers.Flatten())\n",
    "    model.add(layers.Dropout(0.5))\n",
    "    model.add(layers.Dense(64, activation='relu'))\n",
    "    model.add(layers.Dropout(0.5))\n",
    "    model.add(layers.Dense(15, activation='softmax'))\n",
    "    conv_base.trainable = False \n",
    "    model.compile(loss='categorical_crossentropy',\n",
    "              optimizer=optimizers.RMSprop(lr=0.0001),\n",
    "              metrics=['acc'])\n",
    "    return model"
   ]
  },
  {
   "cell_type": "code",
   "execution_count": 86,
   "metadata": {},
   "outputs": [],
   "source": [
    "model = define_model()"
   ]
  },
  {
   "cell_type": "code",
   "execution_count": 87,
   "metadata": {},
   "outputs": [],
   "source": [
    "# create data generator\n",
    "datagen = ImageDataGenerator(rescale=1.0/255.0)"
   ]
  },
  {
   "cell_type": "code",
   "execution_count": 91,
   "metadata": {},
   "outputs": [
    {
     "name": "stdout",
     "output_type": "stream",
     "text": [
      "Found 5100 images belonging to 15 classes.\n",
      "Found 225 images belonging to 15 classes.\n"
     ]
    }
   ],
   "source": [
    "\n",
    "# prepare iterators\n",
    "train_it = datagen.flow_from_directory('training_save/',\n",
    "    class_mode='categorical', batch_size=128, target_size=(224, 224))\n",
    "test_it = datagen.flow_from_directory('testing/',\n",
    "    class_mode='categorical', batch_size=128, target_size=(224, 224))\n",
    "\n"
   ]
  },
  {
   "cell_type": "code",
   "execution_count": 92,
   "metadata": {},
   "outputs": [
    {
     "name": "stdout",
     "output_type": "stream",
     "text": [
      "40/40 [==============================] - 17s 429ms/step - loss: 1.6902 - acc: 0.4686 - val_loss: 1.1543 - val_acc: 0.6533\n",
      "> 65.333\n"
     ]
    }
   ],
   "source": [
    "\n",
    "# fit model\n",
    "history = model.fit_generator(train_it, steps_per_epoch=len(train_it),\n",
    "    validation_data=test_it, validation_steps=len(test_it), epochs=1, verbose=1)\n",
    "_, acc = model.evaluate_generator(test_it, steps=len(test_it), verbose=0)\n",
    "print('> %.3f' % (acc * 100.0))"
   ]
  },
  {
   "cell_type": "code",
   "execution_count": 93,
   "metadata": {},
   "outputs": [
    {
     "name": "stdout",
     "output_type": "stream",
     "text": [
      "Epoch 1/10\n",
      "40/40 [==============================] - 8s 202ms/step - loss: 1.4413 - acc: 0.5294 - val_loss: 0.9569 - val_acc: 0.7022\n",
      "Epoch 2/10\n",
      "40/40 [==============================] - 8s 195ms/step - loss: 1.2573 - acc: 0.5894 - val_loss: 0.8595 - val_acc: 0.7333\n",
      "Epoch 3/10\n",
      "40/40 [==============================] - 8s 204ms/step - loss: 1.1534 - acc: 0.6145 - val_loss: 0.7831 - val_acc: 0.7511\n",
      "Epoch 4/10\n",
      "40/40 [==============================] - 8s 197ms/step - loss: 1.0525 - acc: 0.6580 - val_loss: 0.7309 - val_acc: 0.7600\n",
      "Epoch 5/10\n",
      "40/40 [==============================] - 8s 195ms/step - loss: 1.0002 - acc: 0.6716 - val_loss: 0.6759 - val_acc: 0.7689\n",
      "Epoch 6/10\n",
      "40/40 [==============================] - 8s 195ms/step - loss: 0.9165 - acc: 0.7031 - val_loss: 0.6487 - val_acc: 0.8133\n",
      "Epoch 7/10\n",
      "40/40 [==============================] - 8s 198ms/step - loss: 0.8782 - acc: 0.7141 - val_loss: 0.6246 - val_acc: 0.7911\n",
      "Epoch 8/10\n",
      "40/40 [==============================] - 8s 194ms/step - loss: 0.8285 - acc: 0.7216 - val_loss: 0.6162 - val_acc: 0.7956\n",
      "Epoch 9/10\n",
      "40/40 [==============================] - 8s 197ms/step - loss: 0.7869 - acc: 0.7392 - val_loss: 0.5875 - val_acc: 0.8089\n",
      "Epoch 10/10\n",
      "40/40 [==============================] - 8s 197ms/step - loss: 0.7512 - acc: 0.7492 - val_loss: 0.5735 - val_acc: 0.8178\n",
      "> 81.778\n"
     ]
    }
   ],
   "source": [
    "model.compile(loss='categorical_crossentropy', optimizer=optimizers.RMSprop(lr=0.000075),  metrics=['acc'])\n",
    "history = model.fit_generator(train_it, steps_per_epoch=len(train_it), validation_data=test_it, validation_steps=len(test_it), epochs=10, verbose=1)\n",
    "_, acc = model.evaluate_generator(test_it, steps=len(test_it), verbose=0)\n",
    "print('> %.3f' % (acc * 100.0))"
   ]
  },
  {
   "cell_type": "code",
   "execution_count": 94,
   "metadata": {},
   "outputs": [
    {
     "name": "stdout",
     "output_type": "stream",
     "text": [
      "40/40 [==============================] - 8s 204ms/step - loss: 0.7105 - acc: 0.7649 - val_loss: 0.5766 - val_acc: 0.8267\n",
      "> 82.667\n"
     ]
    }
   ],
   "source": [
    "model.compile(loss='categorical_crossentropy', optimizer=optimizers.RMSprop(lr=0.00005),  metrics=['acc'])\n",
    "history = model.fit_generator(train_it, steps_per_epoch=len(train_it), validation_data=test_it, validation_steps=len(test_it), epochs=1, verbose=1)\n",
    "_, acc = model.evaluate_generator(test_it, steps=len(test_it), verbose=0)\n",
    "print('> %.3f' % (acc * 100.0))"
   ]
  },
  {
   "cell_type": "code",
   "execution_count": 95,
   "metadata": {},
   "outputs": [
    {
     "name": "stdout",
     "output_type": "stream",
     "text": [
      "40/40 [==============================] - 9s 214ms/step - loss: 0.6725 - acc: 0.7773 - val_loss: 0.5569 - val_acc: 0.8133\n",
      "> 81.333\n"
     ]
    }
   ],
   "source": [
    "model.compile(loss='categorical_crossentropy', optimizer=optimizers.RMSprop(lr=0.000025),  metrics=['acc'])\n",
    "history = model.fit_generator(train_it, steps_per_epoch=len(train_it), validation_data=test_it, validation_steps=len(test_it), epochs=1, verbose=1)\n",
    "_, acc = model.evaluate_generator(test_it, steps=len(test_it), verbose=0)\n",
    "print('> %.3f' % (acc * 100.0))"
   ]
  },
  {
   "cell_type": "code",
   "execution_count": 96,
   "metadata": {},
   "outputs": [
    {
     "name": "stdout",
     "output_type": "stream",
     "text": [
      "40/40 [==============================] - 9s 221ms/step - loss: 0.6986 - acc: 0.7727 - val_loss: 0.5589 - val_acc: 0.8178\n",
      "> 81.778\n"
     ]
    }
   ],
   "source": [
    "model.compile(loss='categorical_crossentropy', optimizer=optimizers.RMSprop(lr=0.00001),  metrics=['acc'])\n",
    "history = model.fit_generator(train_it, steps_per_epoch=len(train_it), validation_data=test_it, validation_steps=len(test_it), epochs=1, verbose=1)\n",
    "_, acc = model.evaluate_generator(test_it, steps=len(test_it), verbose=0)\n",
    "print('> %.3f' % (acc * 100.0))"
   ]
  },
  {
   "cell_type": "code",
   "execution_count": 97,
   "metadata": {},
   "outputs": [
    {
     "name": "stdout",
     "output_type": "stream",
     "text": [
      "40/40 [==============================] - 9s 213ms/step - loss: 0.6824 - acc: 0.7767 - val_loss: 0.5552 - val_acc: 0.8089- loss: 0.6889 - acc: \n",
      "> 80.889\n"
     ]
    }
   ],
   "source": [
    "model.compile(loss='categorical_crossentropy', optimizer=optimizers.RMSprop(lr=0.0000075),  metrics=['acc'])\n",
    "history = model.fit_generator(train_it, steps_per_epoch=len(train_it), validation_data=test_it, validation_steps=len(test_it), epochs=1, verbose=1)\n",
    "_, acc = model.evaluate_generator(test_it, steps=len(test_it), verbose=0)\n",
    "print('> %.3f' % (acc * 100.0))"
   ]
  },
  {
   "cell_type": "code",
   "execution_count": 98,
   "metadata": {},
   "outputs": [
    {
     "name": "stdout",
     "output_type": "stream",
     "text": [
      "40/40 [==============================] - 8s 210ms/step - loss: 0.6667 - acc: 0.7804 - val_loss: 0.5534 - val_acc: 0.8222\n",
      "> 82.222\n"
     ]
    }
   ],
   "source": [
    "model.compile(loss='categorical_crossentropy', optimizer=optimizers.RMSprop(lr=0.000005),  metrics=['acc'])\n",
    "history = model.fit_generator(train_it, steps_per_epoch=len(train_it), validation_data=test_it, validation_steps=len(test_it), epochs=1, verbose=1)\n",
    "_, acc = model.evaluate_generator(test_it, steps=len(test_it), verbose=0)\n",
    "print('> %.3f' % (acc * 100.0))"
   ]
  },
  {
   "cell_type": "code",
   "execution_count": 99,
   "metadata": {},
   "outputs": [
    {
     "name": "stdout",
     "output_type": "stream",
     "text": [
      "40/40 [==============================] - 8s 210ms/step - loss: 0.6738 - acc: 0.7729 - val_loss: 0.5513 - val_acc: 0.8222\n",
      "> 82.222\n"
     ]
    }
   ],
   "source": [
    "model.compile(loss='categorical_crossentropy', optimizer=optimizers.RMSprop(lr=0.0000025),  metrics=['acc'])\n",
    "history = model.fit_generator(train_it, steps_per_epoch=len(train_it), validation_data=test_it, validation_steps=len(test_it), epochs=1, verbose=1)\n",
    "_, acc = model.evaluate_generator(test_it, steps=len(test_it), verbose=0)\n",
    "print('> %.3f' % (acc * 100.0))"
   ]
  },
  {
   "cell_type": "code",
   "execution_count": 100,
   "metadata": {},
   "outputs": [
    {
     "name": "stdout",
     "output_type": "stream",
     "text": [
      "Epoch 1/3\n",
      "40/40 [==============================] - 8s 204ms/step - loss: 0.6774 - acc: 0.7788 - val_loss: 0.5515 - val_acc: 0.8222\n",
      "Epoch 2/3\n",
      "40/40 [==============================] - 8s 201ms/step - loss: 0.6601 - acc: 0.7790 - val_loss: 0.5519 - val_acc: 0.8222\n",
      "Epoch 3/3\n",
      "40/40 [==============================] - 8s 203ms/step - loss: 0.6509 - acc: 0.7837 - val_loss: 0.5521 - val_acc: 0.8178\n",
      "> 81.778\n"
     ]
    }
   ],
   "source": [
    "model.compile(loss='categorical_crossentropy', optimizer=optimizers.RMSprop(lr=0.000001),  metrics=['acc'])\n",
    "history = model.fit_generator(train_it, steps_per_epoch=len(train_it), validation_data=test_it, validation_steps=len(test_it), epochs=3, verbose=1)\n",
    "_, acc = model.evaluate_generator(test_it, steps=len(test_it), verbose=0)\n",
    "print('> %.3f' % (acc * 100.0))"
   ]
  },
  {
   "cell_type": "code",
   "execution_count": 101,
   "metadata": {},
   "outputs": [
    {
     "name": "stdout",
     "output_type": "stream",
     "text": [
      "40/40 [==============================] - 9s 213ms/step - loss: 0.6508 - acc: 0.7876 - val_loss: 0.5515 - val_acc: 0.8178\n",
      "> 81.778\n"
     ]
    }
   ],
   "source": [
    "model.compile(loss='categorical_crossentropy', optimizer=optimizers.RMSprop(lr=0.00000075),  metrics=['acc'])\n",
    "history = model.fit_generator(train_it, steps_per_epoch=len(train_it), validation_data=test_it, validation_steps=len(test_it), epochs=1, verbose=1)\n",
    "_, acc = model.evaluate_generator(test_it, steps=len(test_it), verbose=0)\n",
    "print('> %.3f' % (acc * 100.0))"
   ]
  },
  {
   "cell_type": "code",
   "execution_count": 102,
   "metadata": {},
   "outputs": [
    {
     "name": "stdout",
     "output_type": "stream",
     "text": [
      "40/40 [==============================] - 9s 221ms/step - loss: 0.6682 - acc: 0.7820 - val_loss: 0.5518 - val_acc: 0.8178\n",
      "> 81.778\n"
     ]
    }
   ],
   "source": [
    "model.compile(loss='categorical_crossentropy', optimizer=optimizers.RMSprop(lr=0.0000005),  metrics=['acc'])\n",
    "history = model.fit_generator(train_it, steps_per_epoch=len(train_it), validation_data=test_it, validation_steps=len(test_it), epochs=1, verbose=1)\n",
    "_, acc = model.evaluate_generator(test_it, steps=len(test_it), verbose=0)\n",
    "print('> %.3f' % (acc * 100.0))"
   ]
  },
  {
   "cell_type": "code",
   "execution_count": 103,
   "metadata": {},
   "outputs": [
    {
     "name": "stdout",
     "output_type": "stream",
     "text": [
      "40/40 [==============================] - 8s 210ms/step - loss: 0.6501 - acc: 0.7888 - val_loss: 0.5518 - val_acc: 0.8178\n",
      "> 81.778\n"
     ]
    }
   ],
   "source": [
    "model.compile(loss='categorical_crossentropy', optimizer=optimizers.RMSprop(lr=0.00000025),  metrics=['acc'])\n",
    "history = model.fit_generator(train_it, steps_per_epoch=len(train_it), validation_data=test_it, validation_steps=len(test_it), epochs=1, verbose=1)\n",
    "_, acc = model.evaluate_generator(test_it, steps=len(test_it), verbose=0)\n",
    "print('> %.3f' % (acc * 100.0))"
   ]
  },
  {
   "cell_type": "code",
   "execution_count": 104,
   "metadata": {},
   "outputs": [
    {
     "name": "stdout",
     "output_type": "stream",
     "text": [
      "40/40 [==============================] - 8s 210ms/step - loss: 0.6555 - acc: 0.7827 - val_loss: 0.5519 - val_acc: 0.8178 loss: 0.6544 - acc: 0.7 - ETA: 4s - l\n",
      "> 81.778\n"
     ]
    }
   ],
   "source": [
    "model.compile(loss='categorical_crossentropy', optimizer=optimizers.Adam(lr=0.0000001),  metrics=['acc'])\n",
    "history = model.fit_generator(train_it, steps_per_epoch=len(train_it), validation_data=test_it, validation_steps=len(test_it), epochs=1, verbose=1)\n",
    "_, acc = model.evaluate_generator(test_it, steps=len(test_it), verbose=0)\n",
    "print('> %.3f' % (acc * 100.0))"
   ]
  },
  {
   "cell_type": "code",
   "execution_count": 105,
   "metadata": {},
   "outputs": [
    {
     "data": {
      "text/plain": [
       "81.778"
      ]
     },
     "execution_count": 105,
     "metadata": {},
     "output_type": "execute_result"
    }
   ],
   "source": [
    "81.778"
   ]
  },
  {
   "cell_type": "code",
   "execution_count": null,
   "metadata": {},
   "outputs": [],
   "source": []
  },
  {
   "cell_type": "code",
   "execution_count": null,
   "metadata": {},
   "outputs": [],
   "source": []
  },
  {
   "cell_type": "code",
   "execution_count": null,
   "metadata": {},
   "outputs": [],
   "source": [
    " "
   ]
  }
 ],
 "metadata": {
  "kernelspec": {
   "display_name": "Python 3",
   "language": "python",
   "name": "python3"
  },
  "language_info": {
   "codemirror_mode": {
    "name": "ipython",
    "version": 3
   },
   "file_extension": ".py",
   "mimetype": "text/x-python",
   "name": "python",
   "nbconvert_exporter": "python",
   "pygments_lexer": "ipython3",
   "version": "3.7.6"
  }
 },
 "nbformat": 4,
 "nbformat_minor": 2
}
